{
 "cells": [
  {
   "cell_type": "markdown",
   "metadata": {},
   "source": [
    "# Inference \n",
    "\n",
    "This notebook allows you to do: \n",
    "- ✅ **Inference**: Inference refers to using a trained model to make predictions on new, unseen data. This is the final step after training and evaluation, where the model is applied to real-world data.  \n",
    "   - ✅ **Define Data**: Define the path to a directory or image which you would like to have predictions for.  \n",
    "   - ✅ **Choose Model**: Choose a trained model which you would like to use for making predictions.  \n",
    "   - ✅ **Make Predictions**: Make predictions on the provided data using the selected model.\n",
    "\n",
    "---  \n",
    "\n",
    "## Setup and Imports\n",
    "> *Execute the cell below to import external libraries, which simplify the implementation of the notebook.*"
   ]
  },
  {
   "cell_type": "code",
   "execution_count": 1,
   "metadata": {},
   "outputs": [],
   "source": [
    "# import dependencies\n",
    "from IPython.display import display\n",
    "from deepEM.Utils import create_text_widget\n",
    "from src.Inferencer import Inference"
   ]
  },
  {
   "cell_type": "markdown",
   "metadata": {},
   "source": [
    "## 3.1. Define Data"
   ]
  },
  {
   "cell_type": "markdown",
   "metadata": {},
   "source": [
    "Inference can be done on any <span style=\"color:green\">2D .tif files</span>. \n",
    "Please define the path to the <span style=\"color:green\">.tif</span> file in `Data Path`. \n",
    "Here you can either define a directory, then inference will be done on all <span style=\"color:green\">.tif files</span> inside this directory, or you define the path to a single <span style=\"color:green\">.tif file</span>. \n",
    "\n",
    "For example usage you can define `./data/inference/`\n",
    "\n",
    "``` \n",
    "\n",
    "./data/inference/\n",
    "├── image_001.tif\n",
    "├── image_002.tif\n",
    "└── image_003.tif\n",
    "\n",
    "```\n",
    "\n",
    "Or you define `./data/inference/#17_1704_1a_2.7um_A_AC_25k_3.tif`\n",
    "\n",
    "> *Execute the cell below to visulize a text form to provide the data for inference as well as to define the batch size.*"
   ]
  },
  {
   "cell_type": "code",
   "execution_count": 2,
   "metadata": {},
   "outputs": [
    {
     "data": {
      "application/vnd.jupyter.widget-view+json": {
       "model_id": "113f228364a3464cb50f80b415e48ee0",
       "version_major": 2,
       "version_minor": 0
      },
      "text/plain": [
       "Text(value='', description='Data Path:', layout=Layout(width='1000px'), style=TextStyle(description_width='ini…"
      ]
     },
     "metadata": {},
     "output_type": "display_data"
    },
    {
     "data": {
      "application/vnd.jupyter.widget-view+json": {
       "model_id": "6ae882c74c8d419194b70ee128ba1fe5",
       "version_major": 2,
       "version_minor": 0
      },
      "text/plain": [
       "HTML(value='<b>Hint:</b> Enter the path to a directory which contains .tif files you wish to do inference on.'…"
      ]
     },
     "metadata": {},
     "output_type": "display_data"
    },
    {
     "data": {
      "application/vnd.jupyter.widget-view+json": {
       "model_id": "e44c5d1f282c49d1ac62a3a4e6fdd211",
       "version_major": 2,
       "version_minor": 0
      },
      "text/plain": [
       "Text(value='16', description='Batch Size:', layout=Layout(width='1000px'), style=TextStyle(description_width='…"
      ]
     },
     "metadata": {},
     "output_type": "display_data"
    },
    {
     "data": {
      "application/vnd.jupyter.widget-view+json": {
       "model_id": "0c3a76401cf849bf8d77d3fbbc19de3c",
       "version_major": 2,
       "version_minor": 0
      },
      "text/plain": [
       "HTML(value='<b>Hint:</b> Please set the batch size for inference. Larger batch size can lead to faster computa…"
      ]
     },
     "metadata": {},
     "output_type": "display_data"
    }
   ],
   "source": [
    "data_widget = create_text_widget(\"Data Path:\",\"\", \"Enter the path to a directory which contains .tif files you wish to do inference on.\")\n",
    "batch_widget = create_text_widget(\"Batch Size:\", 16, \"Please set the batch size for inference. Larger batch size can lead to faster computation but may lead to OOM (out of memory) errors.\")\n",
    "\n",
    "display(*data_widget)\n",
    "display(*batch_widget)"
   ]
  },
  {
   "cell_type": "markdown",
   "metadata": {},
   "source": [
    "> *Execute the cell below to set the Data Path and other parameters accoring to your input in the text form above.*"
   ]
  },
  {
   "cell_type": "code",
   "execution_count": 3,
   "metadata": {},
   "outputs": [],
   "source": [
    "data_path = data_widget[0].value\n",
    "batch_size = int(batch_widget[0].value)"
   ]
  },
  {
   "cell_type": "markdown",
   "metadata": {},
   "source": [
    "## 3.2. Choose Model\n",
    "> *Execute the cell below to visulize a text form to provide the path to a trained model to do inference with.*"
   ]
  },
  {
   "cell_type": "code",
   "execution_count": null,
   "metadata": {},
   "outputs": [],
   "source": [
    "model_widget = create_text_widget(\"Model Path:\",\"\", \"Enter the path to a pretrained model which you'd like to use for inference.\")\n",
    "display(*model_widget)"
   ]
  },
  {
   "cell_type": "markdown",
   "metadata": {},
   "source": [
    "## 3.3. Make Prediction\n",
    "> *Execute the cell below to generate the tomogram based on the data you specified earlier using the model you defined above. Results will be stored within the provided data folder.*"
   ]
  },
  {
   "cell_type": "code",
   "execution_count": 4,
   "metadata": {},
   "outputs": [
    {
     "ename": "NameError",
     "evalue": "name 'model_widget' is not defined",
     "output_type": "error",
     "traceback": [
      "\u001b[0;31m---------------------------------------------------------------------------\u001b[0m",
      "\u001b[0;31mNameError\u001b[0m                                 Traceback (most recent call last)",
      "Cell \u001b[0;32mIn[4], line 1\u001b[0m\n\u001b[0;32m----> 1\u001b[0m model_path \u001b[38;5;241m=\u001b[39m \u001b[43mmodel_widget\u001b[49m[\u001b[38;5;241m0\u001b[39m]\u001b[38;5;241m.\u001b[39mvalue\n\u001b[1;32m      2\u001b[0m inferencer \u001b[38;5;241m=\u001b[39m Inference(model_path, data_path, batch_size)\n\u001b[1;32m      3\u001b[0m inferencer\u001b[38;5;241m.\u001b[39minference()\n",
      "\u001b[0;31mNameError\u001b[0m: name 'model_widget' is not defined"
     ]
    }
   ],
   "source": [
    "model_path = model_widget[0].value\n",
    "inferencer = Inference(model_path, data_path, batch_size)\n",
    "inferencer.inference()"
   ]
  }
 ],
 "metadata": {
  "kernelspec": {
   "display_name": "deepEM",
   "language": "python",
   "name": "python3"
  },
  "language_info": {
   "codemirror_mode": {
    "name": "ipython",
    "version": 3
   },
   "file_extension": ".py",
   "mimetype": "text/x-python",
   "name": "python",
   "nbconvert_exporter": "python",
   "pygments_lexer": "ipython3",
   "version": "3.12.5"
  }
 },
 "nbformat": 4,
 "nbformat_minor": 4
}
